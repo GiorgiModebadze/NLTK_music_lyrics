{
 "cells": [
  {
   "cell_type": "code",
   "execution_count": 1,
   "metadata": {
    "ExecuteTime": {
     "end_time": "2019-04-04T11:18:46.289945Z",
     "start_time": "2019-04-04T11:18:42.251832Z"
    }
   },
   "outputs": [],
   "source": [
    "import pandas as pd\n",
    "\n",
    "data = pd.read_csv(\"../lyrics.csv\")\n"
   ]
  },
  {
   "cell_type": "code",
   "execution_count": 3,
   "metadata": {
    "ExecuteTime": {
     "end_time": "2019-04-04T11:19:06.199065Z",
     "start_time": "2019-04-04T11:19:06.075152Z"
    }
   },
   "outputs": [
    {
     "name": "stdout",
     "output_type": "stream",
     "text": [
      "<class 'pandas.core.frame.DataFrame'>\n",
      "RangeIndex: 362237 entries, 0 to 362236\n",
      "Data columns (total 6 columns):\n",
      "index     362237 non-null int64\n",
      "song      362235 non-null object\n",
      "year      362237 non-null int64\n",
      "artist    362237 non-null object\n",
      "genre     362237 non-null object\n",
      "lyrics    266557 non-null object\n",
      "dtypes: int64(2), object(4)\n",
      "memory usage: 16.6+ MB\n",
      "None\n",
      "   index             song  year           artist genre  \\\n",
      "0      0        ego-remix  2009  beyonce-knowles   Pop   \n",
      "1      1     then-tell-me  2009  beyonce-knowles   Pop   \n",
      "2      2          honesty  2009  beyonce-knowles   Pop   \n",
      "3      3  you-are-my-rock  2009  beyonce-knowles   Pop   \n",
      "4      4    black-culture  2009  beyonce-knowles   Pop   \n",
      "\n",
      "                                              lyrics  \n",
      "0  Oh baby, how you doing?\\nYou know I'm gonna cu...  \n",
      "1  playin' everything so easy,\\nit's like you see...  \n",
      "2  If you search\\nFor tenderness\\nIt isn't hard t...  \n",
      "3  Oh oh oh I, oh oh oh I\\n[Verse 1:]\\nIf I wrote...  \n",
      "4  Party the people, the people the party it's po...  \n"
     ]
    }
   ],
   "source": [
    "print(data.info())\n",
    "print(data.head())"
   ]
  },
  {
   "cell_type": "code",
   "execution_count": 7,
   "metadata": {
    "ExecuteTime": {
     "end_time": "2019-04-04T11:21:08.940272Z",
     "start_time": "2019-04-04T11:21:08.879546Z"
    }
   },
   "outputs": [
    {
     "name": "stdout",
     "output_type": "stream",
     "text": [
      "artist\n",
      "dolly-parton                     755\n",
      "american-idol                    700\n",
      "elton-john                       680\n",
      "b-b-king                         667\n",
      "chris-brown                      655\n",
      "eddy-arnold                      628\n",
      "barbra-streisand                 624\n",
      "ella-fitzgerald                  623\n",
      "bob-dylan                        614\n",
      "bee-gees                         599\n",
      "david-bowie                      599\n",
      "dean-martin                      593\n",
      "eminem                           589\n",
      "celine-dion                      551\n",
      "frank-zappa                      550\n",
      "bruce-springsteen                534\n",
      "elvis-costello                   534\n",
      "eric-clapton                     522\n",
      "beach-boys                       520\n",
      "bill-anderson                    473\n",
      "chicago                          461\n",
      "frank-sinatra                    435\n",
      "beatles                          429\n",
      "chamillionaire                   428\n",
      "50-cent                          425\n",
      "chumbawamba                      423\n",
      "britney-spears                   422\n",
      "diana-ross                       420\n",
      "emmylou-harris                   419\n",
      "cedarmont-kids                   417\n",
      "                                ... \n",
      "disarray-son                       1\n",
      "disappearing-acts-terry-ellis      1\n",
      "diry-macmillion                    1\n",
      "bb-diamond                         1\n",
      "bbbb                               1\n",
      "dirtyphonics                       1\n",
      "dirtyface-smook                    1\n",
      "bbd                                1\n",
      "disfiguring-the-goddess            1\n",
      "battleground-states                1\n",
      "dishon                             1\n",
      "battle-of-mice                     1\n",
      "bassilyo                           1\n",
      "divine-destiny                     1\n",
      "bastien-laval                      1\n",
      "divided-by-friday                  1\n",
      "basto                              1\n",
      "bastupojkarna                      1\n",
      "divide-the-day                     1\n",
      "district-xiii                      1\n",
      "bathgate                           1\n",
      "dissonance-in-design               1\n",
      "batleme                            1\n",
      "baton-singer-fjay                  1\n",
      "batta                              1\n",
      "batten-showjo-tai                  1\n",
      "disko                              1\n",
      "disillusion-of-grandeur            1\n",
      "dishonored                         1\n",
      "ykforward-russia                   1\n",
      "Length: 18231, dtype: int64\n"
     ]
    }
   ],
   "source": [
    "print(data.groupby(\"artist\").size().sort_values(ascending=False))"
   ]
  },
  {
   "cell_type": "code",
   "execution_count": 8,
   "metadata": {
    "ExecuteTime": {
     "end_time": "2019-04-04T11:21:37.315125Z",
     "start_time": "2019-04-04T11:21:37.287857Z"
    }
   },
   "outputs": [
    {
     "name": "stdout",
     "output_type": "stream",
     "text": [
      "genre\n",
      "Rock             131377\n",
      "Pop               49444\n",
      "Hip-Hop           33965\n",
      "Not Available     29814\n",
      "Metal             28408\n",
      "Other             23683\n",
      "Country           17286\n",
      "Jazz              17147\n",
      "Electronic        16205\n",
      "R&B                5935\n",
      "Indie              5732\n",
      "Folk               3241\n",
      "dtype: int64\n"
     ]
    }
   ],
   "source": [
    "print(data.groupby(\"genre\").size().sort_values(ascending=False))"
   ]
  },
  {
   "cell_type": "code",
   "execution_count": null,
   "metadata": {},
   "outputs": [],
   "source": [
    "print(data.groupby(\"genre\").size().sort_values(ascending=False))"
   ]
  }
 ],
 "metadata": {
  "kernelspec": {
   "display_name": "Python 3",
   "language": "python",
   "name": "python3"
  },
  "language_info": {
   "codemirror_mode": {
    "name": "ipython",
    "version": 3
   },
   "file_extension": ".py",
   "mimetype": "text/x-python",
   "name": "python",
   "nbconvert_exporter": "python",
   "pygments_lexer": "ipython3",
   "version": "3.7.1"
  },
  "varInspector": {
   "cols": {
    "lenName": 16,
    "lenType": 16,
    "lenVar": 40
   },
   "kernels_config": {
    "python": {
     "delete_cmd_postfix": "",
     "delete_cmd_prefix": "del ",
     "library": "var_list.py",
     "varRefreshCmd": "print(var_dic_list())"
    },
    "r": {
     "delete_cmd_postfix": ") ",
     "delete_cmd_prefix": "rm(",
     "library": "var_list.r",
     "varRefreshCmd": "cat(var_dic_list()) "
    }
   },
   "types_to_exclude": [
    "module",
    "function",
    "builtin_function_or_method",
    "instance",
    "_Feature"
   ],
   "window_display": false
  }
 },
 "nbformat": 4,
 "nbformat_minor": 2
}
