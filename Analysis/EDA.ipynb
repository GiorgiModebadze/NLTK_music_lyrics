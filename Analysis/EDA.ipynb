{
 "cells": [
  {
   "cell_type": "code",
   "execution_count": 1,
   "metadata": {
    "ExecuteTime": {
     "end_time": "2019-04-04T11:18:46.289945Z",
     "start_time": "2019-04-04T11:18:42.251832Z"
    }
   },
   "outputs": [],
   "source": [
    "import pandas as pd\n",
    "\n",
    "data = pd.read_csv(\"../lyrics.csv\")\n"
   ]
  },
  {
   "cell_type": "code",
   "execution_count": 3,
   "metadata": {
    "ExecuteTime": {
     "end_time": "2019-04-04T11:19:06.199065Z",
     "start_time": "2019-04-04T11:19:06.075152Z"
    }
   },
   "outputs": [
    {
     "name": "stdout",
     "output_type": "stream",
     "text": [
      "<class 'pandas.core.frame.DataFrame'>\n",
      "RangeIndex: 362237 entries, 0 to 362236\n",
      "Data columns (total 6 columns):\n",
      "index     362237 non-null int64\n",
      "song      362235 non-null object\n",
      "year      362237 non-null int64\n",
      "artist    362237 non-null object\n",
      "genre     362237 non-null object\n",
      "lyrics    266557 non-null object\n",
      "dtypes: int64(2), object(4)\n",
      "memory usage: 16.6+ MB\n",
      "None\n",
      "   index             song  year           artist genre  \\\n",
      "0      0        ego-remix  2009  beyonce-knowles   Pop   \n",
      "1      1     then-tell-me  2009  beyonce-knowles   Pop   \n",
      "2      2          honesty  2009  beyonce-knowles   Pop   \n",
      "3      3  you-are-my-rock  2009  beyonce-knowles   Pop   \n",
      "4      4    black-culture  2009  beyonce-knowles   Pop   \n",
      "\n",
      "                                              lyrics  \n",
      "0  Oh baby, how you doing?\\nYou know I'm gonna cu...  \n",
      "1  playin' everything so easy,\\nit's like you see...  \n",
      "2  If you search\\nFor tenderness\\nIt isn't hard t...  \n",
      "3  Oh oh oh I, oh oh oh I\\n[Verse 1:]\\nIf I wrote...  \n",
      "4  Party the people, the people the party it's po...  \n"
     ]
    }
   ],
   "source": [
    "print(data.info())\n",
    "print(data.head())"
   ]
  },
  {
   "cell_type": "code",
   "execution_count": 7,
   "metadata": {
    "ExecuteTime": {
     "end_time": "2019-04-04T11:21:08.940272Z",
     "start_time": "2019-04-04T11:21:08.879546Z"
    }
   },
   "outputs": [
    {
     "name": "stdout",
     "output_type": "stream",
     "text": [
      "artist\n",
      "dolly-parton                     755\n",
      "american-idol                    700\n",
      "elton-john                       680\n",
      "b-b-king                         667\n",
      "chris-brown                      655\n",
      "eddy-arnold                      628\n",
      "barbra-streisand                 624\n",
      "ella-fitzgerald                  623\n",
      "bob-dylan                        614\n",
      "bee-gees                         599\n",
      "david-bowie                      599\n",
      "dean-martin                      593\n",
      "eminem                           589\n",
      "celine-dion                      551\n",
      "frank-zappa                      550\n",
      "bruce-springsteen                534\n",
      "elvis-costello                   534\n",
      "eric-clapton                     522\n",
      "beach-boys                       520\n",
      "bill-anderson                    473\n",
      "chicago                          461\n",
      "frank-sinatra                    435\n",
      "beatles                          429\n",
      "chamillionaire                   428\n",
      "50-cent                          425\n",
      "chumbawamba                      423\n",
      "britney-spears                   422\n",
      "diana-ross                       420\n",
      "emmylou-harris                   419\n",
      "cedarmont-kids                   417\n",
      "                                ... \n",
      "disarray-son                       1\n",
      "disappearing-acts-terry-ellis      1\n",
      "diry-macmillion                    1\n",
      "bb-diamond                         1\n",
      "bbbb                               1\n",
      "dirtyphonics                       1\n",
      "dirtyface-smook                    1\n",
      "bbd                                1\n",
      "disfiguring-the-goddess            1\n",
      "battleground-states                1\n",
      "dishon                             1\n",
      "battle-of-mice                     1\n",
      "bassilyo                           1\n",
      "divine-destiny                     1\n",
      "bastien-laval                      1\n",
      "divided-by-friday                  1\n",
      "basto                              1\n",
      "bastupojkarna                      1\n",
      "divide-the-day                     1\n",
      "district-xiii                      1\n",
      "bathgate                           1\n",
      "dissonance-in-design               1\n",
      "batleme                            1\n",
      "baton-singer-fjay                  1\n",
      "batta                              1\n",
      "batten-showjo-tai                  1\n",
      "disko                              1\n",
      "disillusion-of-grandeur            1\n",
      "dishonored                         1\n",
      "ykforward-russia                   1\n",
      "Length: 18231, dtype: int64\n"
     ]
    }
   ],
   "source": [
    "print(data.groupby(\"artist\").size().where())"
   ]
  },
  {
   "cell_type": "code",
   "execution_count": 8,
   "metadata": {
    "ExecuteTime": {
     "end_time": "2019-04-04T11:21:37.315125Z",
     "start_time": "2019-04-04T11:21:37.287857Z"
    }
   },
   "outputs": [
    {
     "name": "stdout",
     "output_type": "stream",
     "text": [
      "genre\n",
      "Rock             131377\n",
      "Pop               49444\n",
      "Hip-Hop           33965\n",
      "Not Available     29814\n",
      "Metal             28408\n",
      "Other             23683\n",
      "Country           17286\n",
      "Jazz              17147\n",
      "Electronic        16205\n",
      "R&B                5935\n",
      "Indie              5732\n",
      "Folk               3241\n",
      "dtype: int64\n"
     ]
    }
   ],
   "source": [
    "data.groupby(\"genre\").size().plot.bar(rot=90)"
   ]
  },
  {
   "cell_type": "code",
   "execution_count": 19,
   "metadata": {
    "ExecuteTime": {
     "end_time": "2019-04-04T11:26:40.574026Z",
     "start_time": "2019-04-04T11:26:40.327063Z"
    }
   },
   "outputs": [
    {
     "data": {
      "text/plain": [
       "<matplotlib.axes._subplots.AxesSubplot at 0x123181b38>"
      ]
     },
     "execution_count": 19,
     "metadata": {},
     "output_type": "execute_result"
    },
    {
     "data": {
      "image/png": "[encoded data removed]",
      "text/plain": [
       "<Figure size 432x288 with 1 Axes>"
      ]
     },
     "metadata": {
      "needs_background": "light"
     },
     "output_type": "display_data"
    }
   ],
   "source": [
    "data.groupby(\"genre\").size().plot.bar(rot=90)"
   ]
  },
  {
   "cell_type": "code",
   "execution_count": 52,
   "metadata": {
    "ExecuteTime": {
     "end_time": "2019-04-04T11:58:02.185145Z",
     "start_time": "2019-04-04T11:58:02.178954Z"
    }
   },
   "outputs": [],
   "source": [
    "import nltk\n",
    "from nltk.corpus import brown\n",
    "from nltk import sent_tokenize, word_tokenize\n",
    "from nltk.corpus import stopwords\n",
    "from string import punctuation\n",
    "from nltk.stem import PorterStemmer\n"
   ]
  },
  {
   "cell_type": "code",
   "execution_count": 55,
   "metadata": {
    "ExecuteTime": {
     "end_time": "2019-04-04T11:59:26.782878Z",
     "start_time": "2019-04-04T11:59:26.568122Z"
    }
   },
   "outputs": [
    {
     "name": "stdout",
     "output_type": "stream",
     "text": [
      "['babi']\n",
      "['know', \"'m\", 'gon', 'na', 'cut', 'right', 'chase', 'women', 'made', 'like', 'think', 'creat', 'special', 'purpos', 'know', \"'s\", 'special']\n",
      "['feel', \"'s\", 'babi', 'let', \"'s\", 'get', 'lost', \"n't\", 'need', 'call', 'work', \"'caus\", \"'re\", 'boss', 'real', 'want', 'show', 'feel', 'consid', 'lucki', \"'s\", 'big', 'deal']\n",
      "['well', 'got', 'key', 'heart', 'ai', \"n't\", 'gon', 'na', 'need', \"'d\", 'rather', 'open', 'bodi', 'show', 'secret', \"n't\", 'know', 'insid', 'need', 'lie', \"'s\", 'big', \"'s\", 'wide', \"'s\", 'strong', 'wo', \"n't\", 'fit', \"'s\", 'much', \"'s\", 'tough', 'talk', 'like', \"'caus\", 'back', 'got', 'big', 'ego', 'huge', 'ego', 'love', 'big', 'ego', \"'s\", 'much', 'walk', 'like', \"'caus\", 'back', 'usual', \"'m\", 'humbl', 'right', \"n't\", 'choos', 'leav', 'could', 'blue', 'call', 'arrog', 'call', 'confid', 'decid', 'find', \"'m\", 'work', 'damn', 'know', \"'m\", 'kill', 'leg', 'better', 'yet', 'thigh', 'matter', 'fact', \"'s\", 'smile', 'mayb', 'eye', 'boy', 'site', 'see', 'kind', 'someth', 'like', \"'s\", 'big', \"'s\", 'wide', \"'s\", 'strong', 'wo', \"n't\", 'fit', \"'s\", 'much', \"'s\", 'tough', 'talk', 'like', \"'caus\", 'back', 'got', 'big', 'ego', 'huge', 'ego', 'love', 'big', 'ego', \"'s\", 'much', 'walk', 'like', \"'caus\", 'back', 'walk', 'like', \"'caus\", 'back', 'talk', 'like', \"'caus\", 'back', 'back', 'back', 'walk', 'like', \"'caus\", 'back', \"'s\", 'big', \"'s\", 'wide', \"'s\", 'strong', 'wo', \"n't\", 'fit', \"'s\", 'much', \"'s\", 'tough', 'talk', 'like', \"'caus\", 'back', 'got', 'big', 'ego', 'huge', 'ego', 'huge', 'ego', 'love', 'big', 'ego', \"'s\", 'much', 'walk', 'like', \"'caus\", 'back', 'ego', 'big', 'must', 'admit', 'got', 'everi', 'reason', 'feel', 'like', \"'m\", 'bitch', 'ego', 'strong', 'ai', \"n't\", 'know', \"n't\", 'need', 'beat', 'sing', 'piano']\n",
      "['playin', 'everyth', 'easi', \"'s\", 'like', 'seem', 'sure']\n",
      "['still', 'way', 'dont', 'see', \"'m\", 'sure', \"'re\"]\n",
      "['thing', 'come', 'right', 'along', 'way', 'though', \"n't\", 'truli', 'ask']\n",
      "['seem', \"'re\", 'gon', 'na', 'linger', 'everi', 'delight', 'bring', 'like', 'truli', 'seem']\n",
      "[\"'m\", 'tri', 'think', 'realli', 'want', 'say', 'even', 'darkest', 'day']\n",
      "['might', 'want', 'leav', 'feel', 'strang', 'like', \"'re\", 'gon', 'na', 'let', 'know', 'word', 'slip']\n",
      "['word', 'dont', 'come', 'easi', 'say', 'leav', 'feel', 'come', 'may', 'though', 'want', 'thing', 'come', 'way']\n",
      "['say', 'bore', 'time', 'seem', 'hold', 'back', 'want', 'let', 'know']\n",
      "['dont', 'courag']\n",
      "['speak', \"'ll\", 'listen', 'truli', 'want', 'know', 'tell']\n",
      "['someth', 'wrong', 'seem', 'fasten']\n",
      "['sound', \"'ll\", 'melodi', 'thing', 'let', 'feel', 'alright']\n",
      "['sleep', 'feel', 'exactli']\n",
      "['realli', 'want', 'hear', 'thing', 'though', \"'ve\", 'felt', 'someth', 'new', 'eversinc', 'act', 'way']\n",
      "['go', 'would', 'still', 'mind', 'tell']\n",
      "['stay', 'seem', 'let', 'day', 'go']\n",
      "['truli', 'want', 'let', 'know', 'tell']\n",
      "['search', 'tender', \"n't\", 'hard', 'find', 'love', 'need', 'live', 'look', 'truth', 'might', 'well', 'blind', 'alway', 'seem', 'hard', 'give', 'choru', 'honesti', 'lone', 'word', 'everyon', 'untru', 'honesti', 'hardli', 'ever', 'heard', 'mostli', 'need', 'alway', 'find', 'someon', 'say', 'sympath', 'wear', 'heart', 'sleev', \"n't\", 'want', 'pretti', 'face', 'tell', 'pretti', 'lie', 'want', 'someon', 'believ', 'choru', 'find', 'lover', 'find', 'friend', 'secur', 'bitter', 'end', 'anyon', 'comfort', 'promis', 'know', 'know', \"'m\", 'deep', 'insid', \"n't\", 'concern', 'wo', \"n't\", 'ask', \"nothin'\", \"'m\", 'gone', 'want', 'sincer', 'tell', 'els', 'turn', \"'re\", 'one', 'depend', 'upon', 'choru']\n",
      "['vers', '1', 'wrote', 'book', 'stand', 'titl', 'book', 'would', '``', 'life', 'superman', \"''\", \"'s\", 'make', 'feel', 'count', 'privileg', 'love', 'ideal', \"'m\", 'honor', 'know', 'feel', 'see', 'everyday', 'thing', 'thing', 'say', 'choru', 'rock', 'babi', \"'re\", 'truth', 'rock', 'love', 'rock', 'rock', \"'re\", 'everyth', 'need', 'rock', 'babi', 'rock', 'wan', 'na', 'kiss', 'feel', 'pleas', 'right', 'wan', 'na', 'touch', 'love', 'babi', 'night', 'reward', 'thing', 'rock', 'love', 'rock', 'love', 'rock', 'vers', '2', 'tri', 'count', 'way', 'make', 'smile', \"'d\", 'run', 'finger', 'run', 'timeless', 'thing', 'talk', 'sugar', 'keep', 'go', 'make', 'wan', 'na', 'keep', 'lovin', 'strong', 'make', 'wan', 'na', 'tri', 'best', 'give', 'want', 'need', 'give', 'whole', 'heart', 'littl', 'piec', 'minimum', \"'m\", 'talk', 'everyth', 'singl', 'wish', \"'m\", 'talk', 'everi', 'dream', 'choru', 'rock', 'babi', \"'re\", 'truth', 'rock', 'love', 'rock', 'rock', \"'re\", 'everyth', 'need', 'rock', 'babi', 'rock', 'wan', 'na', 'kiss', 'feel', 'pleas', 'right', 'wan', 'na', 'touch', 'love', 'babi', 'night', 'reward', 'thing', 'rock', 'love', 'rock', 'wan', 'na', 'rock', 'bridg', \"'s\", 'option', \"n't\", 'want', \"'re\", 'worth', 'time', 'caus', \"'s\", 'thank', 'like', 'us', 'fine', \"'re\", 'rock', 'sand', \"'re\", 'smile', 'cri', \"'re\", 'joy', 'pain', \"'re\", 'truth', 'lie', 'matter', 'know', 'count', 'choru', 'rock', 'babi', \"'re\", 'truth', 'rock', 'love', 'rock', 'rock', \"'re\", 'everyth', 'need', 'rock', 'babi', 'rock', 'wan', 'na', 'kiss', 'feel', 'pleas', 'right', 'wan', 'na', 'touch', 'love', 'babi', 'night', 'reward', 'thing', 'rock', 'love', 'rock', 'love', 'rock', 'wan', 'na', 'kiss', 'feel', 'pleas', 'right', 'wan', 'na', 'touch', 'love', 'babi', 'night', 'reward', 'thing', 'rock', 'love', 'rock', 'wan', 'na', 'rock']\n"
     ]
    }
   ],
   "source": [
    "stopwords_en = stopwords.words('english')\n",
    "stopwords_en.extend(['oh','ya',])\n",
    "stopwords_en.extend(punctuation)\n",
    "\n",
    "porter = PorterStemmer()\n",
    "\n",
    "for index , row in data.iterrows():\n",
    "    if index > 3:\n",
    "        break\n",
    "        \n",
    "    for sent in sent_tokenize(row['lyrics']):\n",
    "        print([porter.stem(word) for word in word_tokenize(sent) if word.lower() not in stopwords_en])\n",
    "        "
   ]
  },
  {
   "cell_type": "code",
   "execution_count": null,
   "metadata": {},
   "outputs": [],
   "source": []
  }
 ],
 "metadata": {
  "kernelspec": {
   "display_name": "Python 3",
   "language": "python",
   "name": "python3"
  },
  "language_info": {
   "codemirror_mode": {
    "name": "ipython",
    "version": 3
   },
   "file_extension": ".py",
   "mimetype": "text/x-python",
   "name": "python",
   "nbconvert_exporter": "python",
   "pygments_lexer": "ipython3",
   "version": "3.7.1"
  },
  "varInspector": {
   "cols": {
    "lenName": 16,
    "lenType": 16,
    "lenVar": 40
   },
   "kernels_config": {
    "python": {
     "delete_cmd_postfix": "",
     "delete_cmd_prefix": "del ",
     "library": "var_list.py",
     "varRefreshCmd": "print(var_dic_list())"
    },
    "r": {
     "delete_cmd_postfix": ") ",
     "delete_cmd_prefix": "rm(",
     "library": "var_list.r",
     "varRefreshCmd": "cat(var_dic_list()) "
    }
   },
   "types_to_exclude": [
    "module",
    "function",
    "builtin_function_or_method",
    "instance",
    "_Feature"
   ],
   "window_display": false
  }
 },
 "nbformat": 4,
 "nbformat_minor": 2
}
